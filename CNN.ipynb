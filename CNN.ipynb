{
 "cells": [
  {
   "cell_type": "code",
   "execution_count": 1,
   "metadata": {},
   "outputs": [],
   "source": [
    "from tensorflow.keras.models import Sequential\n",
    "from tensorflow.keras.layers import Dense,Activation,Flatten,Dropout\n",
    "from tensorflow.keras.layers import Conv2D,MaxPooling2D\n",
    "import numpy as np\n",
    "from sklearn.model_selection import train_test_split\n",
    "import matplotlib.pyplot as plt\n",
    "import tensorflow as tf"
   ]
  },
  {
   "cell_type": "code",
   "execution_count": 3,
   "metadata": {},
   "outputs": [
    {
     "name": "stdout",
     "output_type": "stream",
     "text": [
      "2.3.0\n"
     ]
    }
   ],
   "source": [
    "print(tf.__version__)"
   ]
  },
  {
   "cell_type": "code",
   "execution_count": 2,
   "metadata": {},
   "outputs": [],
   "source": [
    "data = np.load('data1.npy')\n",
    "labels = np.load('labels1.npy')"
   ]
  },
  {
   "cell_type": "code",
   "execution_count": 3,
   "metadata": {},
   "outputs": [],
   "source": [
    "model=Sequential()\n",
    "\n",
    "model.add(Conv2D(64,(3,3),input_shape=(100,100,1), activation = 'relu'))\n",
    "model.add(MaxPooling2D(pool_size=(2,2)))\n",
    "\n",
    "\n",
    "model.add(Conv2D(128,(3,3),activation = 'relu'))\n",
    "model.add(MaxPooling2D(pool_size=(2,2)))\n",
    "\n",
    "model.add(Conv2D(254,(3,3),activation = 'relu'))\n",
    "model.add(MaxPooling2D(pool_size=(2,2)))\n",
    "\n",
    "model.add(Flatten())\n",
    "model.add(Dropout(0.5))\n",
    "\n",
    "model.add(Dense(64,activation='relu'))\n",
    "\n",
    "model.add(Dense(2,activation='softmax'))\n",
    "\n",
    "model.compile(loss='categorical_crossentropy',optimizer='adam',metrics=['accuracy'])"
   ]
  },
  {
   "cell_type": "code",
   "execution_count": 4,
   "metadata": {},
   "outputs": [],
   "source": [
    "train_data,test_data,train_target,test_target=train_test_split(data,labels,test_size=0.1)"
   ]
  },
  {
   "cell_type": "code",
   "execution_count": 5,
   "metadata": {},
   "outputs": [
    {
     "data": {
      "text/plain": [
       "(3440, 2)"
      ]
     },
     "execution_count": 5,
     "metadata": {},
     "output_type": "execute_result"
    }
   ],
   "source": [
    "train_target.shape"
   ]
  },
  {
   "cell_type": "code",
   "execution_count": 6,
   "metadata": {},
   "outputs": [
    {
     "name": "stdout",
     "output_type": "stream",
     "text": [
      "Epoch 1/100\n",
      " 1/54 [..............................] - ETA: 0s - loss: 0.6929 - accuracy: 0.5312WARNING:tensorflow:Callbacks method `on_train_batch_end` is slow compared to the batch time (batch time: 0.0110s vs `on_train_batch_end` time: 0.0170s). Check your callbacks.\n",
      "54/54 [==============================] - 2s 33ms/step - loss: 0.6051 - accuracy: 0.6596 - val_loss: 0.5308 - val_accuracy: 0.7363\n",
      "Epoch 2/100\n",
      "54/54 [==============================] - 1s 25ms/step - loss: 0.3933 - accuracy: 0.8276 - val_loss: 0.3205 - val_accuracy: 0.8668\n",
      "Epoch 3/100\n",
      "54/54 [==============================] - 1s 26ms/step - loss: 0.2646 - accuracy: 0.8922 - val_loss: 0.2395 - val_accuracy: 0.9034\n",
      "Epoch 4/100\n",
      "54/54 [==============================] - 1s 25ms/step - loss: 0.1912 - accuracy: 0.9230 - val_loss: 0.2325 - val_accuracy: 0.9164\n",
      "Epoch 5/100\n",
      "54/54 [==============================] - 1s 25ms/step - loss: 0.1460 - accuracy: 0.9381 - val_loss: 0.2168 - val_accuracy: 0.9112\n",
      "Epoch 6/100\n",
      "54/54 [==============================] - 1s 25ms/step - loss: 0.1138 - accuracy: 0.9567 - val_loss: 0.1916 - val_accuracy: 0.9347\n",
      "Epoch 7/100\n",
      "54/54 [==============================] - 1s 25ms/step - loss: 0.1055 - accuracy: 0.9587 - val_loss: 0.1528 - val_accuracy: 0.9426\n",
      "Epoch 8/100\n",
      "54/54 [==============================] - 1s 26ms/step - loss: 0.0758 - accuracy: 0.9709 - val_loss: 0.2240 - val_accuracy: 0.9347\n",
      "Epoch 9/100\n",
      "54/54 [==============================] - 1s 26ms/step - loss: 0.0742 - accuracy: 0.9703 - val_loss: 0.1794 - val_accuracy: 0.9373\n",
      "Epoch 10/100\n",
      "54/54 [==============================] - 1s 26ms/step - loss: 0.0679 - accuracy: 0.9730 - val_loss: 0.2009 - val_accuracy: 0.9478\n",
      "Epoch 11/100\n",
      "54/54 [==============================] - 1s 25ms/step - loss: 0.0464 - accuracy: 0.9831 - val_loss: 0.2260 - val_accuracy: 0.9452\n",
      "Epoch 12/100\n",
      "54/54 [==============================] - 1s 25ms/step - loss: 0.0383 - accuracy: 0.9869 - val_loss: 0.2168 - val_accuracy: 0.9399\n",
      "Epoch 13/100\n",
      "54/54 [==============================] - 1s 25ms/step - loss: 0.0316 - accuracy: 0.9892 - val_loss: 0.2193 - val_accuracy: 0.9452\n",
      "Epoch 14/100\n",
      "54/54 [==============================] - 1s 26ms/step - loss: 0.0545 - accuracy: 0.9805 - val_loss: 0.2038 - val_accuracy: 0.9399\n",
      "Epoch 15/100\n",
      "54/54 [==============================] - 1s 26ms/step - loss: 0.0348 - accuracy: 0.9887 - val_loss: 0.2372 - val_accuracy: 0.9295\n",
      "Epoch 16/100\n",
      "54/54 [==============================] - 1s 25ms/step - loss: 0.0319 - accuracy: 0.9884 - val_loss: 0.1959 - val_accuracy: 0.9530\n",
      "Epoch 17/100\n",
      "54/54 [==============================] - 1s 25ms/step - loss: 0.0201 - accuracy: 0.9919 - val_loss: 0.2843 - val_accuracy: 0.9478\n",
      "Epoch 18/100\n",
      "54/54 [==============================] - 1s 25ms/step - loss: 0.0212 - accuracy: 0.9936 - val_loss: 0.2175 - val_accuracy: 0.9452\n",
      "Epoch 19/100\n",
      "54/54 [==============================] - 1s 25ms/step - loss: 0.0257 - accuracy: 0.9907 - val_loss: 0.2983 - val_accuracy: 0.9321\n",
      "Epoch 20/100\n",
      "54/54 [==============================] - 1s 25ms/step - loss: 0.0251 - accuracy: 0.9916 - val_loss: 0.2206 - val_accuracy: 0.9478\n",
      "Epoch 21/100\n",
      "54/54 [==============================] - ETA: 0s - loss: 0.0151 - accuracy: 0.99 - 1s 26ms/step - loss: 0.0151 - accuracy: 0.9942 - val_loss: 0.2758 - val_accuracy: 0.9321\n",
      "Epoch 22/100\n",
      "54/54 [==============================] - 1s 25ms/step - loss: 0.0230 - accuracy: 0.9913 - val_loss: 0.3006 - val_accuracy: 0.9399\n",
      "Epoch 23/100\n",
      "54/54 [==============================] - 1s 25ms/step - loss: 0.0178 - accuracy: 0.9939 - val_loss: 0.2650 - val_accuracy: 0.9478\n",
      "Epoch 24/100\n",
      "54/54 [==============================] - 1s 25ms/step - loss: 0.0116 - accuracy: 0.9968 - val_loss: 0.2769 - val_accuracy: 0.9530\n",
      "Epoch 25/100\n",
      "54/54 [==============================] - 1s 26ms/step - loss: 0.0050 - accuracy: 0.9983 - val_loss: 0.3084 - val_accuracy: 0.9478\n",
      "Epoch 26/100\n",
      "54/54 [==============================] - 1s 26ms/step - loss: 0.0065 - accuracy: 0.9974 - val_loss: 0.2847 - val_accuracy: 0.9478\n",
      "Epoch 27/100\n",
      "54/54 [==============================] - 1s 25ms/step - loss: 0.0034 - accuracy: 0.9991 - val_loss: 0.3210 - val_accuracy: 0.9478\n",
      "Epoch 28/100\n",
      "54/54 [==============================] - 1s 25ms/step - loss: 0.0031 - accuracy: 0.9994 - val_loss: 0.2862 - val_accuracy: 0.9530\n",
      "Epoch 29/100\n",
      "54/54 [==============================] - 1s 25ms/step - loss: 0.0094 - accuracy: 0.9974 - val_loss: 0.3484 - val_accuracy: 0.9530\n",
      "Epoch 30/100\n",
      "54/54 [==============================] - 1s 25ms/step - loss: 0.0141 - accuracy: 0.9953 - val_loss: 0.3928 - val_accuracy: 0.9426\n",
      "Epoch 31/100\n",
      "54/54 [==============================] - 1s 25ms/step - loss: 0.0295 - accuracy: 0.9881 - val_loss: 0.3124 - val_accuracy: 0.9452\n",
      "Epoch 32/100\n",
      "54/54 [==============================] - 1s 25ms/step - loss: 0.0143 - accuracy: 0.9962 - val_loss: 0.3143 - val_accuracy: 0.9478\n",
      "Epoch 33/100\n",
      "54/54 [==============================] - 1s 25ms/step - loss: 0.0050 - accuracy: 0.9983 - val_loss: 0.3090 - val_accuracy: 0.9530\n",
      "Epoch 34/100\n",
      "54/54 [==============================] - 1s 25ms/step - loss: 0.0034 - accuracy: 0.9991 - val_loss: 0.3260 - val_accuracy: 0.9530\n",
      "Epoch 35/100\n",
      "54/54 [==============================] - 1s 25ms/step - loss: 0.0043 - accuracy: 0.9985 - val_loss: 0.3594 - val_accuracy: 0.9608\n",
      "Epoch 36/100\n",
      "54/54 [==============================] - 1s 25ms/step - loss: 0.0031 - accuracy: 0.9985 - val_loss: 0.3819 - val_accuracy: 0.9608\n",
      "Epoch 37/100\n",
      "54/54 [==============================] - 1s 26ms/step - loss: 0.0056 - accuracy: 0.9980 - val_loss: 0.3834 - val_accuracy: 0.9556\n",
      "Epoch 38/100\n",
      "54/54 [==============================] - 1s 25ms/step - loss: 0.0129 - accuracy: 0.9951 - val_loss: 0.2624 - val_accuracy: 0.9530\n",
      "Epoch 39/100\n",
      "54/54 [==============================] - 1s 25ms/step - loss: 0.0183 - accuracy: 0.9939 - val_loss: 0.3348 - val_accuracy: 0.9426\n",
      "Epoch 40/100\n",
      "54/54 [==============================] - 1s 25ms/step - loss: 0.0088 - accuracy: 0.9971 - val_loss: 0.2652 - val_accuracy: 0.9608\n",
      "Epoch 41/100\n",
      "54/54 [==============================] - 1s 25ms/step - loss: 0.0155 - accuracy: 0.9942 - val_loss: 0.3003 - val_accuracy: 0.9452\n",
      "Epoch 42/100\n",
      "54/54 [==============================] - 1s 25ms/step - loss: 0.0066 - accuracy: 0.9980 - val_loss: 0.4028 - val_accuracy: 0.9399\n",
      "Epoch 43/100\n",
      "54/54 [==============================] - 1s 25ms/step - loss: 0.0057 - accuracy: 0.9977 - val_loss: 0.3312 - val_accuracy: 0.9530\n",
      "Epoch 44/100\n",
      "54/54 [==============================] - 1s 25ms/step - loss: 0.0016 - accuracy: 0.9997 - val_loss: 0.3622 - val_accuracy: 0.9530\n",
      "Epoch 45/100\n",
      "54/54 [==============================] - 1s 25ms/step - loss: 0.0026 - accuracy: 0.9991 - val_loss: 0.3907 - val_accuracy: 0.9556\n",
      "Epoch 46/100\n",
      "54/54 [==============================] - 1s 25ms/step - loss: 0.0027 - accuracy: 0.9991 - val_loss: 0.3819 - val_accuracy: 0.9478\n",
      "Epoch 47/100\n",
      "54/54 [==============================] - 1s 25ms/step - loss: 0.0039 - accuracy: 0.9988 - val_loss: 0.3776 - val_accuracy: 0.9582\n",
      "Epoch 48/100\n",
      "54/54 [==============================] - 1s 26ms/step - loss: 0.0024 - accuracy: 0.9994 - val_loss: 0.4125 - val_accuracy: 0.9530\n",
      "Epoch 49/100\n",
      "54/54 [==============================] - 1s 25ms/step - loss: 0.0028 - accuracy: 0.9991 - val_loss: 0.4066 - val_accuracy: 0.9530\n",
      "Epoch 50/100\n",
      "54/54 [==============================] - 1s 25ms/step - loss: 0.0014 - accuracy: 0.9994 - val_loss: 0.4221 - val_accuracy: 0.9530\n",
      "Epoch 51/100\n",
      "54/54 [==============================] - 1s 25ms/step - loss: 0.0015 - accuracy: 0.9994 - val_loss: 0.4151 - val_accuracy: 0.9478\n",
      "Epoch 52/100\n",
      "54/54 [==============================] - 1s 26ms/step - loss: 0.0011 - accuracy: 1.0000 - val_loss: 0.4382 - val_accuracy: 0.9608\n",
      "Epoch 53/100\n",
      "54/54 [==============================] - 1s 25ms/step - loss: 0.0022 - accuracy: 0.9994 - val_loss: 0.3884 - val_accuracy: 0.9452\n",
      "Epoch 54/100\n",
      "54/54 [==============================] - 1s 25ms/step - loss: 0.0024 - accuracy: 0.9991 - val_loss: 0.4414 - val_accuracy: 0.9452\n",
      "Epoch 55/100\n",
      "54/54 [==============================] - 1s 25ms/step - loss: 0.0301 - accuracy: 0.9895 - val_loss: 0.2579 - val_accuracy: 0.9556\n",
      "Epoch 56/100\n",
      "54/54 [==============================] - 1s 25ms/step - loss: 0.0147 - accuracy: 0.9953 - val_loss: 0.2428 - val_accuracy: 0.9426\n",
      "Epoch 57/100\n",
      "54/54 [==============================] - 1s 26ms/step - loss: 0.0057 - accuracy: 0.9977 - val_loss: 0.4081 - val_accuracy: 0.9582\n",
      "Epoch 58/100\n",
      "54/54 [==============================] - 1s 26ms/step - loss: 0.0064 - accuracy: 0.9985 - val_loss: 0.3785 - val_accuracy: 0.9373\n",
      "Epoch 59/100\n",
      "54/54 [==============================] - 1s 26ms/step - loss: 0.0018 - accuracy: 0.9994 - val_loss: 0.3584 - val_accuracy: 0.9608\n",
      "Epoch 60/100\n",
      "54/54 [==============================] - 1s 25ms/step - loss: 0.0063 - accuracy: 0.9980 - val_loss: 0.3391 - val_accuracy: 0.9582\n",
      "Epoch 61/100\n",
      "54/54 [==============================] - 1s 26ms/step - loss: 0.0123 - accuracy: 0.9959 - val_loss: 0.4072 - val_accuracy: 0.9347\n",
      "Epoch 62/100\n",
      "54/54 [==============================] - 1s 25ms/step - loss: 0.0095 - accuracy: 0.9974 - val_loss: 0.4506 - val_accuracy: 0.9399\n",
      "Epoch 63/100\n",
      "54/54 [==============================] - 1s 25ms/step - loss: 0.0115 - accuracy: 0.9965 - val_loss: 0.3254 - val_accuracy: 0.9634\n",
      "Epoch 64/100\n",
      "54/54 [==============================] - 1s 26ms/step - loss: 0.0106 - accuracy: 0.9971 - val_loss: 0.4292 - val_accuracy: 0.9582\n",
      "Epoch 65/100\n",
      "54/54 [==============================] - 1s 26ms/step - loss: 0.0077 - accuracy: 0.9974 - val_loss: 0.3958 - val_accuracy: 0.9478\n",
      "Epoch 66/100\n",
      "54/54 [==============================] - 1s 26ms/step - loss: 0.0192 - accuracy: 0.9951 - val_loss: 0.3796 - val_accuracy: 0.9530\n",
      "Epoch 67/100\n",
      "54/54 [==============================] - 1s 26ms/step - loss: 0.0120 - accuracy: 0.9956 - val_loss: 0.3800 - val_accuracy: 0.9373\n",
      "Epoch 68/100\n",
      "54/54 [==============================] - 1s 26ms/step - loss: 0.0013 - accuracy: 1.0000 - val_loss: 0.3756 - val_accuracy: 0.9504\n",
      "Epoch 69/100\n",
      "54/54 [==============================] - 1s 26ms/step - loss: 0.0016 - accuracy: 0.9994 - val_loss: 0.3534 - val_accuracy: 0.9399\n",
      "Epoch 70/100\n",
      "54/54 [==============================] - 1s 25ms/step - loss: 0.0020 - accuracy: 0.9991 - val_loss: 0.3943 - val_accuracy: 0.9347\n",
      "Epoch 71/100\n",
      "54/54 [==============================] - 1s 26ms/step - loss: 0.0080 - accuracy: 0.9974 - val_loss: 0.4473 - val_accuracy: 0.9295\n",
      "Epoch 72/100\n",
      "54/54 [==============================] - 1s 25ms/step - loss: 0.0045 - accuracy: 0.9985 - val_loss: 0.3477 - val_accuracy: 0.9530\n",
      "Epoch 73/100\n",
      "54/54 [==============================] - 1s 25ms/step - loss: 7.3790e-04 - accuracy: 1.0000 - val_loss: 0.3013 - val_accuracy: 0.9608\n",
      "Epoch 74/100\n",
      "54/54 [==============================] - 1s 26ms/step - loss: 5.5926e-04 - accuracy: 1.0000 - val_loss: 0.3231 - val_accuracy: 0.9582\n",
      "Epoch 75/100\n",
      "54/54 [==============================] - 1s 25ms/step - loss: 0.0114 - accuracy: 0.9977 - val_loss: 0.3127 - val_accuracy: 0.9426\n",
      "Epoch 76/100\n",
      "54/54 [==============================] - 1s 26ms/step - loss: 0.0388 - accuracy: 0.9904 - val_loss: 0.3139 - val_accuracy: 0.9295\n",
      "Epoch 77/100\n",
      "54/54 [==============================] - 1s 26ms/step - loss: 0.0098 - accuracy: 0.9971 - val_loss: 0.3911 - val_accuracy: 0.9373\n",
      "Epoch 78/100\n",
      "54/54 [==============================] - 1s 25ms/step - loss: 0.0102 - accuracy: 0.9965 - val_loss: 0.3247 - val_accuracy: 0.9556\n",
      "Epoch 79/100\n",
      "54/54 [==============================] - 1s 26ms/step - loss: 0.0040 - accuracy: 0.9983 - val_loss: 0.3894 - val_accuracy: 0.9530\n",
      "Epoch 80/100\n",
      "54/54 [==============================] - 1s 26ms/step - loss: 0.0061 - accuracy: 0.9977 - val_loss: 0.3863 - val_accuracy: 0.9530\n",
      "Epoch 81/100\n",
      "54/54 [==============================] - 1s 26ms/step - loss: 0.0038 - accuracy: 0.9985 - val_loss: 0.3633 - val_accuracy: 0.9530\n",
      "Epoch 82/100\n",
      "54/54 [==============================] - 1s 25ms/step - loss: 0.0034 - accuracy: 0.9985 - val_loss: 0.3525 - val_accuracy: 0.9556\n",
      "Epoch 83/100\n",
      "54/54 [==============================] - 1s 26ms/step - loss: 0.0040 - accuracy: 0.9983 - val_loss: 0.4715 - val_accuracy: 0.9478\n",
      "Epoch 84/100\n",
      "54/54 [==============================] - 1s 26ms/step - loss: 0.0037 - accuracy: 0.9988 - val_loss: 0.3942 - val_accuracy: 0.9556\n",
      "Epoch 85/100\n",
      "54/54 [==============================] - 1s 26ms/step - loss: 0.0077 - accuracy: 0.9968 - val_loss: 0.4339 - val_accuracy: 0.9347\n",
      "Epoch 86/100\n",
      "54/54 [==============================] - 1s 26ms/step - loss: 0.0042 - accuracy: 0.9988 - val_loss: 0.3446 - val_accuracy: 0.9399\n",
      "Epoch 87/100\n",
      "54/54 [==============================] - 1s 26ms/step - loss: 4.9225e-04 - accuracy: 1.0000 - val_loss: 0.3608 - val_accuracy: 0.9530\n",
      "Epoch 88/100\n",
      "54/54 [==============================] - 1s 26ms/step - loss: 3.6785e-04 - accuracy: 1.0000 - val_loss: 0.3515 - val_accuracy: 0.9530\n",
      "Epoch 89/100\n",
      "54/54 [==============================] - 1s 26ms/step - loss: 8.3070e-04 - accuracy: 1.0000 - val_loss: 0.3662 - val_accuracy: 0.9530\n",
      "Epoch 90/100\n",
      "54/54 [==============================] - 1s 26ms/step - loss: 3.4885e-04 - accuracy: 1.0000 - val_loss: 0.3910 - val_accuracy: 0.9478\n",
      "Epoch 91/100\n",
      "54/54 [==============================] - 1s 26ms/step - loss: 2.4820e-04 - accuracy: 1.0000 - val_loss: 0.3954 - val_accuracy: 0.9530\n",
      "Epoch 92/100\n",
      "54/54 [==============================] - 1s 26ms/step - loss: 7.5150e-04 - accuracy: 0.9997 - val_loss: 0.4049 - val_accuracy: 0.9504\n",
      "Epoch 93/100\n",
      "54/54 [==============================] - 1s 26ms/step - loss: 0.0172 - accuracy: 0.9962 - val_loss: 0.3790 - val_accuracy: 0.9504\n",
      "Epoch 94/100\n",
      "54/54 [==============================] - 1s 26ms/step - loss: 0.0053 - accuracy: 0.9980 - val_loss: 0.3424 - val_accuracy: 0.9504\n",
      "Epoch 95/100\n",
      "54/54 [==============================] - 1s 26ms/step - loss: 0.0045 - accuracy: 0.9985 - val_loss: 0.3503 - val_accuracy: 0.9556\n",
      "Epoch 96/100\n",
      "54/54 [==============================] - 1s 25ms/step - loss: 0.0083 - accuracy: 0.9974 - val_loss: 0.4776 - val_accuracy: 0.9373\n",
      "Epoch 97/100\n",
      "54/54 [==============================] - 1s 26ms/step - loss: 0.0036 - accuracy: 0.9991 - val_loss: 0.3582 - val_accuracy: 0.9530\n",
      "Epoch 98/100\n",
      "54/54 [==============================] - 1s 26ms/step - loss: 0.0013 - accuracy: 0.9994 - val_loss: 0.3446 - val_accuracy: 0.9582\n",
      "Epoch 99/100\n",
      "54/54 [==============================] - 1s 25ms/step - loss: 0.0038 - accuracy: 0.9991 - val_loss: 0.4477 - val_accuracy: 0.9530\n",
      "Epoch 100/100\n",
      "54/54 [==============================] - 1s 25ms/step - loss: 8.3583e-04 - accuracy: 0.9997 - val_loss: 0.4598 - val_accuracy: 0.9530\n"
     ]
    }
   ],
   "source": [
    "history=model.fit(train_data,train_target,batch_size = 64,epochs=100,validation_data = (test_data,test_target))"
   ]
  },
  {
   "cell_type": "code",
   "execution_count": 7,
   "metadata": {},
   "outputs": [],
   "source": [
    "model.save(\"mask_detector2.h5\")"
   ]
  },
  {
   "cell_type": "code",
   "execution_count": 8,
   "metadata": {},
   "outputs": [
    {
     "data": {
      "image/png": "[encoded data removed]",
      "text/plain": [
       "<Figure size 432x288 with 1 Axes>"
      ]
     },
     "metadata": {
      "needs_background": "light"
     },
     "output_type": "display_data"
    }
   ],
   "source": [
    "plt.plot(history.history['loss'],'r',label='training loss')\n",
    "plt.plot(history.history['val_loss'],label='validation loss')\n",
    "plt.xlabel('# epochs')\n",
    "plt.ylabel('loss')\n",
    "plt.legend()\n",
    "plt.show()"
   ]
  },
  {
   "cell_type": "code",
   "execution_count": 9,
   "metadata": {},
   "outputs": [
    {
     "data": {
      "image/png": "[encoded data removed]",
      "text/plain": [
       "<Figure size 432x288 with 1 Axes>"
      ]
     },
     "metadata": {
      "needs_background": "light"
     },
     "output_type": "display_data"
    }
   ],
   "source": [
    "plt.plot(history.history['accuracy'],'r',label='training accuracy')\n",
    "plt.plot(history.history['val_accuracy'],label='validation accuracy')\n",
    "plt.xlabel('# epochs')\n",
    "plt.ylabel('loss')\n",
    "plt.legend()\n",
    "plt.show()"
   ]
  },
  {
   "cell_type": "code",
   "execution_count": 10,
   "metadata": {},
   "outputs": [
    {
     "name": "stdout",
     "output_type": "stream",
     "text": [
      "12/12 [==============================] - 0s 10ms/step - loss: 0.4598 - accuracy: 0.9530\n",
      "[0.45979878306388855, 0.9530026316642761]\n"
     ]
    }
   ],
   "source": [
    "print(model.evaluate(test_data,test_target))"
   ]
  },
  {
   "cell_type": "code",
   "execution_count": null,
   "metadata": {},
   "outputs": [],
   "source": []
  }
 ],
 "metadata": {
  "kernelspec": {
   "display_name": "Python 3",
   "language": "python",
   "name": "python3"
  },
  "language_info": {
   "codemirror_mode": {
    "name": "ipython",
    "version": 3
   },
   "file_extension": ".py",
   "mimetype": "text/x-python",
   "name": "python",
   "nbconvert_exporter": "python",
   "pygments_lexer": "ipython3",
   "version": "3.8.3"
  }
 },
 "nbformat": 4,
 "nbformat_minor": 4
}
